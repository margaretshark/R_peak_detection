{
 "cells": [
  {
   "cell_type": "code",
   "execution_count": 120,
   "id": "b0173b44",
   "metadata": {},
   "outputs": [
    {
     "name": "stdout",
     "output_type": "stream",
     "text": [
      "The autoreload extension is already loaded. To reload it, use:\n",
      "  %reload_ext autoreload\n"
     ]
    }
   ],
   "source": [
    "%load_ext autoreload\n",
    "%autoreload 2\n",
    "import matplotlib.pyplot as plt\n",
    "from collections import Counter\n",
    "import numpy as np\n",
    "import wfdb\n",
    "from wfdb import processing\n",
    "import os\n",
    "from functools import partial\n",
    "from utils import plot_signal_with_r_peaks, load_patient\n",
    "from tqdm import tqdm\n",
    "import torch.nn as nn\n",
    "import pywt\n",
    "from collections import Counter \n",
    "from scipy import signal as sig\n",
    "\n"
   ]
  },
  {
   "cell_type": "code",
   "execution_count": 121,
   "id": "dde5ee86",
   "metadata": {},
   "outputs": [],
   "source": [
    "import shutil\n",
    "import os"
   ]
  },
  {
   "cell_type": "code",
   "execution_count": 5,
   "id": "a463a729",
   "metadata": {},
   "outputs": [],
   "source": [
    "def preprocess(ecg):\n",
    "    \n",
    "    signal = ecg.flatten()\n",
    "\n",
    "    # Apply DWT\n",
    "    wavelet = 'db4'\n",
    "    level = 9\n",
    "    coeffs = pywt.wavedec(signal, wavelet, level=level)\n",
    "\n",
    "    # Remove baseline wandering\n",
    "    coeffs[1:] = [pywt.threshold(i, np.std(i)/2) for i in coeffs[1:]]\n",
    "    filtered_signal = pywt.waverec(coeffs, wavelet)\n",
    "\n",
    "    # Apply lowpass filter\n",
    "    nyquist = record.fs / 2\n",
    "    cutoff = 40\n",
    "    b, a = sig.butter(4, cutoff/nyquist, 'low')\n",
    "    filtered_signal = sig.filtfilt(b, a, filtered_signal)\n",
    "    return filtered_signal"
   ]
  },
  {
   "cell_type": "code",
   "execution_count": 116,
   "id": "2349c726",
   "metadata": {},
   "outputs": [],
   "source": [
    "data_dir = 'mit-bih-arrhythmia' \n",
    "dst_dir = 'filtered-mit-bih-arrhythmia'\n",
    "\n",
    "if not os.path.exists(dst_dir):\n",
    "    os.makedirs(dst_dir)"
   ]
  },
  {
   "cell_type": "code",
   "execution_count": 141,
   "id": "0545d66e",
   "metadata": {},
   "outputs": [],
   "source": [
    "# copy of annotation files\n",
    "for filename in os.listdir(data_dir):\n",
    "\n",
    "    if filename.endswith('.atr'):\n",
    "\n",
    "        src_file = os.path.join(data_dir, filename)\n",
    "        dst_file = os.path.join(dst_dir, filename)\n",
    "        shutil.copy(src_file, dst_file)"
   ]
  },
  {
   "cell_type": "code",
   "execution_count": 128,
   "id": "b02fc97c",
   "metadata": {},
   "outputs": [
    {
     "data": {
      "text/plain": [
       "['68 M 1960 2851 x1',\n",
       " 'Digoxin, Hydrochlorthiazide, Inderal, KCl',\n",
       " 'The PVCs are uniform and late-cycle.  This record was taken from the same',\n",
       " 'analog tape as record 201.']"
      ]
     },
     "execution_count": 128,
     "metadata": {},
     "output_type": "execute_result"
    }
   ],
   "source": [
    "record.comments"
   ]
  },
  {
   "cell_type": "code",
   "execution_count": 189,
   "id": "8e9159db",
   "metadata": {},
   "outputs": [
    {
     "data": {
      "text/plain": [
       "[1024, 1024]"
      ]
     },
     "execution_count": 189,
     "metadata": {},
     "output_type": "execute_result"
    }
   ],
   "source": [
    "record.baseline"
   ]
  },
  {
   "cell_type": "code",
   "execution_count": 235,
   "id": "643d54a1",
   "metadata": {
    "scrolled": true
   },
   "outputs": [
    {
     "name": "stdout",
     "output_type": "stream",
     "text": [
      "202\n",
      "219\n",
      "109\n",
      "116\n",
      "212\n",
      "200\n",
      "221\n",
      "220\n",
      "232\n",
      "121\n",
      "106\n",
      "102\n",
      "205\n",
      "230\n",
      "217\n",
      "103\n",
      "117\n",
      "114\n",
      "118\n",
      "231\n",
      "214\n",
      "201\n",
      "234\n",
      "124\n",
      "122\n",
      "113\n",
      "111\n",
      "101\n",
      "108\n",
      "203\n",
      "107\n",
      "210\n",
      "208\n",
      "115\n",
      "119\n",
      "222\n",
      "223\n",
      "213\n",
      "215\n",
      "233\n",
      "207\n",
      "112\n",
      "104\n",
      "123\n",
      "100\n",
      "228\n",
      "209\n",
      "105\n"
     ]
    }
   ],
   "source": [
    "patients = list(set([x.split('.')[0] for x in os.listdir(f'./{data_dir}/')]))\n",
    "\n",
    "for i, pat_num in zip(range(len(patients)), patients):\n",
    "    record = wfdb.rdrecord(f'{data_dir}/{pat_num}')\n",
    "    \n",
    "    ecg = np.asarray(record.p_signal[:,0], dtype=np.float64)\n",
    "\n",
    "    # Load R peak annotations stored as Sample number\n",
    "    annotation = wfdb.rdann(f'{data_dir}/{pat_num}', 'atr')\n",
    "    filtered_signal = preprocess(ecg)\n",
    "    a = record.p_signal[:, 0]\n",
    "    record.p_signal[:, 0] = filtered_signal\n",
    "    b = record.p_signal[:, 0]\n",
    "    \n",
    "#     print(record.p_signal)\n",
    "    wfdb.wrsamp(f'{pat_num}', sig_name = record.sig_name, fs = record.fs, \n",
    "            p_signal = record.p_signal, d_signal = None, fmt=record.fmt, units = record.units, \n",
    "                comments=record.comments, write_dir = 'filtered-mit-bih-arrhythmia')\n",
    "\n",
    "\n",
    "    record = wfdb.rdsamp(f'filtered-mit-bih-arrhythmia/{pat_num}')\n",
    "#     break"
   ]
  },
  {
   "cell_type": "code",
   "execution_count": null,
   "id": "8ee9c1d0",
   "metadata": {},
   "outputs": [],
   "source": [
    "#     wfdb.wrsamp(f'{pat_num}', sig_name = record.sig_name, fs = record.fs, \n",
    "#             p_signal = record.p_signal, baseline = record.baseline, d_signal = None, fmt=record.fmt,\n",
    "#                 adc_gain = record.adc_gain, units = record.units, \n",
    "#                 comments=record.comments, write_dir = 'filtered-mit-bih-arrhythmia')\n",
    "\n",
    "\n",
    "# np.transpose(np.array([filtered_signal, record.p_signal[:, 1]]), (1, 0))\n"
   ]
  }
 ],
 "metadata": {
  "kernelspec": {
   "display_name": "ecg",
   "language": "python",
   "name": "ecg"
  },
  "language_info": {
   "codemirror_mode": {
    "name": "ipython",
    "version": 3
   },
   "file_extension": ".py",
   "mimetype": "text/x-python",
   "name": "python",
   "nbconvert_exporter": "python",
   "pygments_lexer": "ipython3",
   "version": "3.9.16"
  }
 },
 "nbformat": 4,
 "nbformat_minor": 5
}
